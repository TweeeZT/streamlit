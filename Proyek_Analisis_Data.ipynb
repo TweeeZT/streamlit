{
  "cells": [
    {
      "cell_type": "markdown",
      "metadata": {
        "id": "H9wADwK78DCz"
      },
      "source": [
        "# Proyek Analisis Data: Bike Sharing Dataset\n",
        "- **Nama:** Cahya Abdurrahman\n",
        "- **Email:** cahyaabd@upi.edu\n",
        "- **ID Dicoding:** cahya_a"
      ]
    },
    {
      "cell_type": "markdown",
      "metadata": {
        "id": "eE0raob58DC0"
      },
      "source": [
        "## Menentukan Pertanyaan Bisnis"
      ]
    },
    {
      "cell_type": "markdown",
      "metadata": {
        "id": "GmQeQ5YF8DC0"
      },
      "source": [
        "- Pertanyaan 1 : Di musim apa rental sepeda paling tinggi dan paling rendah?\n",
        "- Pertanyaan 2 : Bagaimana pola rental sepeda berdasarkan jam dalam sehari?"
      ]
    },
    {
      "cell_type": "markdown",
      "metadata": {
        "id": "H-z4QGlO8DC1"
      },
      "source": [
        "## Import Semua Packages/Library yang Digunakan"
      ]
    },
    {
      "cell_type": "code",
      "execution_count": 5,
      "metadata": {
        "id": "FVYwaObI8DC1"
      },
      "outputs": [],
      "source": [
        "import numpy as np\n",
        "import pandas as pd\n",
        "import matplotlib.pyplot as plt\n",
        "import seaborn as sns\n",
        "import streamlit as st"
      ]
    },
    {
      "cell_type": "markdown",
      "metadata": {
        "id": "h_Sh51Xy8DC1"
      },
      "source": [
        "## Data Wrangling"
      ]
    },
    {
      "cell_type": "markdown",
      "metadata": {
        "id": "sXU2GBYu8DC1"
      },
      "source": [
        "### Gathering Data"
      ]
    },
    {
      "cell_type": "code",
      "execution_count": 6,
      "metadata": {
        "id": "zjCBk1BI8DC1"
      },
      "outputs": [],
      "source": [
        "hari_df = pd.read_csv(\"data/day.csv\", delimiter=\",\")\n",
        "jam_df = pd.read_csv(\"data/hour.csv\", delimiter=\",\")\n",
        "merged_df = jam_df.merge(hari_df, on=\"dteday\", suffixes=(\"_jam\", \"_hari\"))\n"
      ]
    },
    {
      "cell_type": "markdown",
      "metadata": {
        "id": "MMi6xGaDkbCi"
      },
      "source": [
        "**Insight:**\n",
        "- Menggabungkan data rental hari dan jam \n"
      ]
    },
    {
      "cell_type": "markdown",
      "metadata": {
        "id": "FHSiqaZp8DC1"
      },
      "source": [
        "### Assessing Data"
      ]
    },
    {
      "cell_type": "code",
      "execution_count": 7,
      "metadata": {
        "id": "ax-3tEjc9Cj1"
      },
      "outputs": [
        {
          "data": {
            "text/plain": [
              "instant_jam        0\n",
              "dteday             0\n",
              "season_jam         0\n",
              "yr_jam             0\n",
              "mnth_jam           0\n",
              "hr                 0\n",
              "holiday_jam        0\n",
              "weekday_jam        0\n",
              "workingday_jam     0\n",
              "weathersit_jam     0\n",
              "temp_jam           0\n",
              "atemp_jam          0\n",
              "hum_jam            0\n",
              "windspeed_jam      0\n",
              "casual_jam         0\n",
              "registered_jam     0\n",
              "cnt_jam            0\n",
              "instant_hari       0\n",
              "season_hari        0\n",
              "yr_hari            0\n",
              "mnth_hari          0\n",
              "holiday_hari       0\n",
              "weekday_hari       0\n",
              "workingday_hari    0\n",
              "weathersit_hari    0\n",
              "temp_hari          0\n",
              "atemp_hari         0\n",
              "hum_hari           0\n",
              "windspeed_hari     0\n",
              "casual_hari        0\n",
              "registered_hari    0\n",
              "cnt_hari           0\n",
              "dtype: int64"
            ]
          },
          "execution_count": 7,
          "metadata": {},
          "output_type": "execute_result"
        }
      ],
      "source": [
        "merged_df.isnull().sum()"
      ]
    },
    {
      "cell_type": "markdown",
      "metadata": {},
      "source": [
        "Mengecek apakah ada data yang terduplikat"
      ]
    },
    {
      "cell_type": "code",
      "execution_count": 8,
      "metadata": {},
      "outputs": [
        {
          "data": {
            "text/plain": [
              "np.int64(0)"
            ]
          },
          "execution_count": 8,
          "metadata": {},
          "output_type": "execute_result"
        }
      ],
      "source": [
        "merged_df.duplicated().sum()"
      ]
    },
    {
      "cell_type": "markdown",
      "metadata": {
        "id": "EhN5R4hr8DC1"
      },
      "source": [
        "### Cleaning Data"
      ]
    },
    {
      "cell_type": "markdown",
      "metadata": {},
      "source": [
        "Menghilangkan missing value dengan metode drop"
      ]
    },
    {
      "cell_type": "code",
      "execution_count": 9,
      "metadata": {
        "id": "jVnYpprE9Evz"
      },
      "outputs": [],
      "source": [
        "merged_df.dropna(axis=0, inplace=True)"
      ]
    },
    {
      "cell_type": "markdown",
      "metadata": {},
      "source": [
        "Menghilangkan outlier dengan metode drop"
      ]
    },
    {
      "cell_type": "code",
      "execution_count": 10,
      "metadata": {},
      "outputs": [],
      "source": [
        "numerik_df = merged_df.select_dtypes(include=['number'])\n",
        "\n",
        "Q1 = numerik_df.quantile(0.25)\n",
        "Q3 = numerik_df.quantile(0.75)\n",
        "IQR = Q3 - Q1\n",
        "\n",
        "minimum = Q1 - (1.5 * IQR)\n",
        "maximum = Q3 + (1.5 * IQR)\n",
        "\n",
        "outlier_indices = numerik_df[((numerik_df < minimum) | (numerik_df > maximum)).any(axis=1)].index\n",
        "\n",
        "merged_df.drop(index=outlier_indices, inplace=True)\n"
      ]
    },
    {
      "cell_type": "markdown",
      "metadata": {},
      "source": [
        "Menghilangkan data duplikat"
      ]
    },
    {
      "cell_type": "code",
      "execution_count": 11,
      "metadata": {},
      "outputs": [],
      "source": [
        "merged_df.drop_duplicates(inplace=True)"
      ]
    },
    {
      "cell_type": "markdown",
      "metadata": {
        "id": "gp-Y6wU38DC1"
      },
      "source": [
        "## Exploratory Data Analysis (EDA)"
      ]
    },
    {
      "cell_type": "markdown",
      "metadata": {
        "id": "MW7WF2kr8DC1"
      },
      "source": [
        "### Explore the merged data"
      ]
    },
    {
      "cell_type": "markdown",
      "metadata": {},
      "source": [
        "Melihat tabel apa saja pada data"
      ]
    },
    {
      "cell_type": "code",
      "execution_count": 12,
      "metadata": {},
      "outputs": [
        {
          "name": "stdout",
          "output_type": "stream",
          "text": [
            "Index(['instant_jam', 'dteday', 'season_jam', 'yr_jam', 'mnth_jam', 'hr',\n",
            "       'holiday_jam', 'weekday_jam', 'workingday_jam', 'weathersit_jam',\n",
            "       'temp_jam', 'atemp_jam', 'hum_jam', 'windspeed_jam', 'casual_jam',\n",
            "       'registered_jam', 'cnt_jam', 'instant_hari', 'season_hari', 'yr_hari',\n",
            "       'mnth_hari', 'holiday_hari', 'weekday_hari', 'workingday_hari',\n",
            "       'weathersit_hari', 'temp_hari', 'atemp_hari', 'hum_hari',\n",
            "       'windspeed_hari', 'casual_hari', 'registered_hari', 'cnt_hari'],\n",
            "      dtype='object')\n"
          ]
        }
      ],
      "source": [
        "print(merged_df.columns)\n"
      ]
    },
    {
      "cell_type": "markdown",
      "metadata": {},
      "source": [
        "Melihat jumlah rental dan rata-rata rental pada weekday dan weekend"
      ]
    },
    {
      "cell_type": "code",
      "execution_count": 13,
      "metadata": {},
      "outputs": [
        {
          "name": "stdout",
          "output_type": "stream",
          "text": [
            "Jumlah Rental Berdasarkan Weekday:\n",
            " Weekday (0=Senin, ..., 6=Minggu)  Total Rental\n",
            "                                0       6256860\n",
            "                                1       8334381\n",
            "                                2      10051612\n",
            "                                3       9932240\n",
            "                                4      10155794\n",
            "                                5      10146848\n",
            "                                6       5537670\n",
            "\n",
            "Jumlah Rental Berdasarkan Workday:\n",
            " Workday (0=Akhir Pekan/Libur, 1=Hari Kerja)  Total Rental\n",
            "                                           0      11794530\n",
            "                                           1      48620875\n",
            "Rata-rata rental pada hari kerja (Weekday): 8946177.40\n",
            "Rata-rata rental pada akhir pekan (Weekend): 7842259.00\n",
            "\n",
            "Jumlah Rental Berdasarkan Holiday:\n",
            " Holiday (0=Hari Biasa, 1=Hari Libur)  Total Rental\n",
            "                                    0      60415405\n"
          ]
        }
      ],
      "source": [
        "weekday_usage = merged_df.groupby(\"weekday_hari\")[\"cnt_hari\"].sum().reset_index()\n",
        "weekday_usage.columns = [\"Weekday (0=Senin, ..., 6=Minggu)\", \"Total Rental\"]\n",
        "\n",
        "workingday_usage = merged_df.groupby(\"workingday_hari\")[\"cnt_hari\"].sum().reset_index()\n",
        "workingday_usage.columns = [\"Workday (0=Akhir Pekan/Libur, 1=Hari Kerja)\", \"Total Rental\"]\n",
        "\n",
        "holiday_usage = merged_df.groupby(\"holiday_hari\")[\"cnt_hari\"].sum().reset_index()\n",
        "holiday_usage.columns = [\"Holiday (0=Hari Biasa, 1=Hari Libur)\", \"Total Rental\"]\n",
        "\n",
        "avg_weekday = weekday_usage[weekday_usage[\"Weekday (0=Senin, ..., 6=Minggu)\"] < 5][\"Total Rental\"].mean()\n",
        "avg_weekend = weekday_usage[weekday_usage[\"Weekday (0=Senin, ..., 6=Minggu)\"] >= 5][\"Total Rental\"].mean()\n",
        "\n",
        "print(\"Jumlah Rental Berdasarkan Weekday:\")\n",
        "print(weekday_usage.to_string(index=False))\n",
        "\n",
        "\n",
        "print(\"\\nJumlah Rental Berdasarkan Workday:\")\n",
        "print(workingday_usage.to_string(index=False))\n",
        "\n",
        "print(f\"Rata-rata rental pada hari kerja (Weekday): {avg_weekday:.2f}\")\n",
        "print(f\"Rata-rata rental pada akhir pekan (Weekend): {avg_weekend:.2f}\")\n",
        "\n",
        "print(\"\\nJumlah Rental Berdasarkan Holiday:\")\n",
        "print(holiday_usage.to_string(index=False))"
      ]
    },
    {
      "cell_type": "markdown",
      "metadata": {},
      "source": [
        "**Insight:**\n",
        "- Jumlah rental terbanyak adalah pada hari rabu, jumat, dan sabtu dengan perbedaan yang sedikit.\n",
        "- Pada hari kerja, jumlah rental lebih banyak dibandingkan dengan akhir pekan."
      ]
    },
    {
      "cell_type": "markdown",
      "metadata": {},
      "source": [
        "Melihat jumlah rental berdasarkan jam"
      ]
    },
    {
      "cell_type": "code",
      "execution_count": 14,
      "metadata": {},
      "outputs": [
        {
          "name": "stdout",
          "output_type": "stream",
          "text": [
            "Jumlah Rental Berdasarkan Jam:\n",
            " Jam (0-23)  Total Rental\n",
            "          0         31844\n",
            "          1         18866\n",
            "          2         12447\n",
            "          3          6319\n",
            "          4          3748\n",
            "          5         13248\n",
            "          6         52173\n",
            "          7        134961\n",
            "          8        117163\n",
            "          9        139251\n",
            "         10         91824\n",
            "         11         98745\n",
            "         12        114095\n",
            "         13        111766\n",
            "         14         98548\n",
            "         15        107928\n",
            "         16        150703\n",
            "         17        113387\n",
            "         18        130914\n",
            "         19        163058\n",
            "         20        144189\n",
            "         21        110374\n",
            "         22         83558\n",
            "         23         55644\n"
          ]
        }
      ],
      "source": [
        "hourly_usage = merged_df.groupby(\"hr\")[\"cnt_jam\"].sum().reset_index()\n",
        "hourly_usage.columns = [\"Jam (0-23)\", \"Total Rental\"]\n",
        "\n",
        "print(\"Jumlah Rental Berdasarkan Jam:\")\n",
        "print(hourly_usage.to_string(index=False))\n"
      ]
    },
    {
      "cell_type": "markdown",
      "metadata": {},
      "source": [
        "**Insight:**\n",
        "- Jumlah rental terbanyak terdapat pada jam kerja adalah jam 10 pagi\n",
        "- Jumlah rental terbanyak terdapat pada jam pulang kerja adalah jam 8 malam"
      ]
    },
    {
      "cell_type": "markdown",
      "metadata": {},
      "source": [
        "Melihat hari apa yang paling banyak rental"
      ]
    },
    {
      "cell_type": "code",
      "execution_count": 15,
      "metadata": {},
      "outputs": [
        {
          "name": "stdout",
          "output_type": "stream",
          "text": [
            " Hari dalam Seminggu (0=Senin, dst)  Total Rental\n",
            "                                  0       6256860\n",
            "                                  1       8334381\n",
            "                                  2      10051612\n",
            "                                  3       9932240\n",
            "                                  4      10155794\n",
            "                                  5      10146848\n",
            "                                  6       5537670\n"
          ]
        }
      ],
      "source": [
        "weekday_usage = merged_df.groupby(\"weekday_hari\")[\"cnt_hari\"].sum().reset_index()\n",
        "weekday_usage.columns = [\"Hari dalam Seminggu (0=Senin, dst)\", \"Total Rental\"]\n",
        "print(weekday_usage.to_string(index=False))"
      ]
    },
    {
      "cell_type": "markdown",
      "metadata": {},
      "source": [
        "**Insight:**\n",
        "- Jumlah rental terbanyak terdapat pada hari sabtu\n",
        "- Hari sabtu memiliki jumlah rental yang paling banyak dimungkinkan karena weekend"
      ]
    },
    {
      "cell_type": "markdown",
      "metadata": {},
      "source": [
        "Melihat jumlah pengguna dan member yang merental"
      ]
    },
    {
      "cell_type": "code",
      "execution_count": 17,
      "metadata": {},
      "outputs": [
        {
          "name": "stdout",
          "output_type": "stream",
          "text": [
            "Jumlah Pengguna Kasual dan Terdaftar:\n",
            " Tipe Pengguna  Total Rental\n",
            "    casual_jam        329380\n",
            "registered_jam       1775373\n"
          ]
        }
      ],
      "source": [
        "user_type_usage = merged_df[[\"casual_jam\", \"registered_jam\"]].sum().reset_index()\n",
        "user_type_usage.columns = [\"Tipe Pengguna\", \"Total Rental\"]\n",
        "\n",
        "print(\"Jumlah Pengguna Kasual dan Terdaftar:\")\n",
        "print(user_type_usage.to_string(index=False))\n"
      ]
    },
    {
      "cell_type": "markdown",
      "metadata": {},
      "source": [
        "**Insight:**\n",
        "- Jumlah pengguna member lebih banyak dibandingkan dengan jumlah pengguna kasual"
      ]
    },
    {
      "cell_type": "markdown",
      "metadata": {},
      "source": [
        "Jumlah pengguna rental berdasarkan musim"
      ]
    },
    {
      "cell_type": "code",
      "execution_count": 18,
      "metadata": {},
      "outputs": [
        {
          "name": "stdout",
          "output_type": "stream",
          "text": [
            "Total Penyewaan Berdasarkan Musim:\n",
            " Musim (1=Spring, 2=Summer, 3=Fall, 4=Winter)  Total Rental\n",
            "                                            1       9488514\n",
            "                                            2      15503080\n",
            "                                            3      19350349\n",
            "                                            4      16073462\n"
          ]
        }
      ],
      "source": [
        "season_usage = merged_df.groupby(\"season_hari\")[\"cnt_hari\"].sum().reset_index()\n",
        "season_usage.columns = [\"Musim (1=Spring, 2=Summer, 3=Fall, 4=Winter)\", \"Total Rental\"]\n",
        "\n",
        "print(\"Total Penyewaan Berdasarkan Musim:\")\n",
        "print(season_usage.to_string(index=False))\n"
      ]
    },
    {
      "cell_type": "markdown",
      "metadata": {},
      "source": [
        "**Insight:**\n",
        "- Jumlah pengguna rental paling banyak pada musim gugur"
      ]
    },
    {
      "cell_type": "markdown",
      "metadata": {},
      "source": [
        "Melihat jumlah rental berdasarkan tahun dan musim"
      ]
    },
    {
      "cell_type": "code",
      "execution_count": 19,
      "metadata": {},
      "outputs": [
        {
          "name": "stdout",
          "output_type": "stream",
          "text": [
            "Total Penyewaan Berdasarkan Musim dan Tahun:\n",
            " Tahun (0=2011, 1=2012)  Musim (1=Spring, 2=Summer, 3=Fall, 4=Winter)  Total Rental\n",
            "                      0                                             1       3190458\n",
            "                      0                                             2       7167553\n",
            "                      0                                             3       8597797\n",
            "                      0                                             4       6884690\n",
            "                      1                                             1       6298056\n",
            "                      1                                             2       8335527\n",
            "                      1                                             3      10752552\n",
            "                      1                                             4       9188772\n"
          ]
        }
      ],
      "source": [
        "season_year_usage = merged_df.groupby([\"yr_hari\", \"season_hari\"])[\"cnt_hari\"].sum().reset_index()\n",
        "season_year_usage.columns = [\"Tahun (0=2011, 1=2012)\", \"Musim (1=Spring, 2=Summer, 3=Fall, 4=Winter)\", \"Total Rental\"]\n",
        "\n",
        "print(\"Total Penyewaan Berdasarkan Musim dan Tahun:\")\n",
        "print(season_year_usage.to_string(index=False))\n"
      ]
    },
    {
      "cell_type": "markdown",
      "metadata": {},
      "source": [
        "**Insight:**\n",
        "- Jumlah pengguna rental paling banyak terdapat pada tahun 2012 di musim gugur"
      ]
    },
    {
      "cell_type": "markdown",
      "metadata": {},
      "source": [
        "Melihat jumlah rental berdasarkan suhu udara"
      ]
    },
    {
      "cell_type": "code",
      "execution_count": 26,
      "metadata": {},
      "outputs": [
        {
          "name": "stdout",
          "output_type": "stream",
          "text": [
            "Total Penyewaan Berdasarkan Suhu:\n",
            " Suhu Normalisasi  Total Rental\n",
            "         0.059130         22563\n",
            "         0.096522         22678\n",
            "         0.097391         32568\n",
            "         0.107500         56832\n",
            "         0.134783         36915\n",
            "         0.138333         18084\n",
            "         0.144348         35374\n",
            "         0.150000         40248\n",
            "         0.150833         31704\n",
            "         0.160870         32683\n",
            "         0.162500         47448\n",
            "         0.165000         54842\n",
            "         0.166667         55464\n",
            "         0.169091         27786\n",
            "         0.172727         23240\n",
            "         0.173333         29923\n",
            "         0.177500         32403\n",
            "         0.180000         59832\n",
            "         0.180833         36024\n",
            "         0.182222         26100\n",
            "         0.186957         34100\n",
            "         0.189091         38412\n",
            "         0.190000         79008\n",
            "         0.192174         31280\n",
            "         0.195000          3448\n",
            "         0.196364         29678\n",
            "         0.196522         59984\n",
            "         0.198333         38755\n",
            "         0.200000         35926\n",
            "         0.203478         26841\n",
            "         0.204348         36938\n",
            "         0.211304         39284\n",
            "         0.215833         65496\n",
            "         0.216522         25208\n",
            "         0.216667          8196\n",
            "         0.217500         83502\n",
            "         0.218333         58368\n",
            "         0.220833         93372\n",
            "         0.221739         44091\n",
            "         0.222500        115984\n",
            "         0.223478         45655\n",
            "         0.224167         95859\n",
            "         0.226957         36800\n",
            "         0.231304         21160\n",
            "         0.231667         28896\n",
            "         0.233333         54072\n",
            "         0.238333        137784\n",
            "         0.243333         83910\n",
            "         0.245833        101064\n",
            "         0.248333         58152\n",
            "         0.253043         38939\n",
            "         0.253333        103782\n",
            "         0.254167         56074\n",
            "         0.255833        150591\n",
            "         0.256667         67248\n",
            "         0.258333        160680\n",
            "         0.260000         30520\n",
            "         0.261667         92904\n",
            "         0.261739         39312\n",
            "         0.264167        121008\n",
            "         0.264348         46644\n",
            "         0.265000         91920\n",
            "         0.265833        286392\n",
            "         0.266087         36300\n",
            "         0.266667         44424\n",
            "         0.268333         40440\n",
            "         0.269167         86976\n",
            "         0.271667         41088\n",
            "         0.274167        188294\n",
            "         0.274783         17342\n",
            "         0.275000         76560\n",
            "         0.276667         81672\n",
            "         0.278333         47817\n",
            "         0.279167         81336\n",
            "         0.280000         64536\n",
            "         0.280833        217036\n",
            "         0.280870        106460\n",
            "         0.281667        123442\n",
            "         0.282500        209640\n",
            "         0.282609         87032\n",
            "         0.285000         44760\n",
            "         0.285217         36240\n",
            "         0.285833         38952\n",
            "         0.287500         86478\n",
            "         0.287826         86871\n",
            "         0.289167        115395\n",
            "         0.290833         86880\n",
            "         0.291667         91057\n",
            "         0.292174         37950\n",
            "         0.292500         51192\n",
            "         0.294167        102480\n",
            "         0.295652         41561\n",
            "         0.295833        277858\n",
            "         0.296667        110460\n",
            "         0.297500        111699\n",
            "         0.298333        238898\n",
            "         0.299130         50644\n",
            "         0.299167         86736\n",
            "         0.300000         90312\n",
            "         0.302500         81453\n",
            "         0.308696         82754\n",
            "         0.311667         71976\n",
            "         0.312500         89448\n",
            "         0.313333        206451\n",
            "         0.314167         94560\n",
            "         0.315000         54048\n",
            "         0.315833         84483\n",
            "         0.316522         82018\n",
            "         0.316667         72120\n",
            "         0.317391         47288\n",
            "         0.317500         89760\n",
            "         0.318182         12056\n",
            "         0.318261         48645\n",
            "         0.319167        276667\n",
            "         0.320833        115184\n",
            "         0.321667        191481\n",
            "         0.323333        102040\n",
            "         0.324167        121128\n",
            "         0.325000        221551\n",
            "         0.325217         47058\n",
            "         0.325833        156963\n",
            "         0.326667        150677\n",
            "         0.329167        125959\n",
            "         0.330000         94944\n",
            "         0.330833        173568\n",
            "         0.332500        162498\n",
            "         0.334167         98352\n",
            "         0.335000         42680\n",
            "         0.335833         35304\n",
            "         0.336667         40392\n",
            "         0.337500         82200\n",
            "         0.340000         88056\n",
            "         0.341667        166997\n",
            "         0.342500        267988\n",
            "         0.343333        294552\n",
            "         0.343478         55246\n",
            "         0.344167         23640\n",
            "         0.344348         42182\n",
            "         0.345000        125356\n",
            "         0.346667         77724\n",
            "         0.346957         46662\n",
            "         0.347500        106927\n",
            "         0.348333        179814\n",
            "         0.348696         97240\n",
            "         0.352174        106300\n",
            "         0.353333        307341\n",
            "         0.354167         96250\n",
            "         0.355000        122787\n",
            "         0.356667        147305\n",
            "         0.357500        116886\n",
            "         0.359167        100349\n",
            "         0.361667        131824\n",
            "         0.361739         78576\n",
            "         0.362500         90864\n",
            "         0.363478         18423\n",
            "         0.364348         26298\n",
            "         0.365217         50416\n",
            "         0.365833        125706\n",
            "         0.366667         90762\n",
            "         0.368333         62560\n",
            "         0.370000        172860\n",
            "         0.373043         58700\n",
            "         0.373333         50807\n",
            "         0.374167        118314\n",
            "         0.375000        138896\n",
            "         0.375833         58292\n",
            "         0.376522         12705\n",
            "         0.376667         84400\n",
            "         0.377500         96278\n",
            "         0.378333         51984\n",
            "         0.380000         70392\n",
            "         0.380833        115479\n",
            "         0.381667        106058\n",
            "         0.382500         98328\n",
            "         0.384167        213000\n",
            "         0.384348         48340\n",
            "         0.385833        181464\n",
            "         0.389167        111112\n",
            "         0.390000        103707\n",
            "         0.390833         64584\n",
            "         0.393333        309619\n",
            "         0.395000         96840\n",
            "         0.395833        109779\n",
            "         0.396667         22594\n",
            "         0.397500        113589\n",
            "         0.399167         78981\n",
            "         0.400000         98616\n",
            "         0.400833         97632\n",
            "         0.403333        209338\n",
            "         0.404167        103236\n",
            "         0.407273         27474\n",
            "         0.407500         73227\n",
            "         0.408333        196296\n",
            "         0.410000        125286\n",
            "         0.410833        111140\n",
            "         0.412500         51888\n",
            "         0.413333        118293\n",
            "         0.414167        145945\n",
            "         0.415000         65856\n",
            "         0.415833         84240\n",
            "         0.416667         38568\n",
            "         0.421667         74477\n",
            "         0.422500        162851\n",
            "         0.423333         73632\n",
            "         0.425000         65664\n",
            "         0.426667         57900\n",
            "         0.427500        103296\n",
            "         0.428333         63840\n",
            "         0.430435         47771\n",
            "         0.430833         15105\n",
            "         0.433913         89040\n",
            "         0.435000        280540\n",
            "         0.435833        268664\n",
            "         0.437500        310952\n",
            "         0.438333        114580\n",
            "         0.440000            22\n",
            "         0.440833        141943\n",
            "         0.441667         64872\n",
            "         0.442500        121562\n",
            "         0.446667        252592\n",
            "         0.447500         66360\n",
            "         0.451667         77073\n",
            "         0.452500        130914\n",
            "         0.454167        111364\n",
            "         0.455833        156681\n",
            "         0.456667        107256\n",
            "         0.457500        105961\n",
            "         0.458333        158192\n",
            "         0.459167        259199\n",
            "         0.460000         72648\n",
            "         0.462500         62256\n",
            "         0.463333        281222\n",
            "         0.464167        226196\n",
            "         0.466667        233154\n",
            "         0.467500         78408\n",
            "         0.468333        150680\n",
            "         0.469167        210399\n",
            "         0.470000         55839\n",
            "         0.471667        107801\n",
            "         0.472500        215157\n",
            "         0.475833        138726\n",
            "         0.476667        123920\n",
            "         0.479167        110592\n",
            "         0.484167        315602\n",
            "         0.485833        109780\n",
            "         0.487500        148218\n",
            "         0.489167         83775\n",
            "         0.491667         76687\n",
            "         0.494167        232255\n",
            "         0.498333        241872\n",
            "         0.500000         82704\n",
            "         0.502500        118932\n",
            "         0.503478         88941\n",
            "         0.505833        208336\n",
            "         0.506667         78255\n",
            "         0.507500         76932\n",
            "         0.510000        110280\n",
            "         0.510833        119640\n",
            "         0.511667         80656\n",
            "         0.512500        180816\n",
            "         0.514167        287413\n",
            "         0.520000         80138\n",
            "         0.520833        224154\n",
            "         0.521667        245114\n",
            "         0.522500        157689\n",
            "         0.526667        241444\n",
            "         0.528333         77994\n",
            "         0.530000        208344\n",
            "         0.530833        109800\n",
            "         0.531667        130830\n",
            "         0.532500        315251\n",
            "         0.533333        126540\n",
            "         0.534167        105110\n",
            "         0.535000        111872\n",
            "         0.536667        118008\n",
            "         0.537500        131733\n",
            "         0.538333        106172\n",
            "         0.540000        136827\n",
            "         0.540833        140020\n",
            "         0.541667        135156\n",
            "         0.541739         48480\n",
            "         0.542500        100368\n",
            "         0.543333         57984\n",
            "         0.544167        149320\n",
            "         0.545000        129213\n",
            "         0.545833        141436\n",
            "         0.546667        146680\n",
            "         0.549167        214560\n",
            "         0.550000        397819\n",
            "         0.550833         87456\n",
            "         0.552500        144229\n",
            "         0.554167        271649\n",
            "         0.557500        130032\n",
            "         0.560000        134841\n",
            "         0.560833        134046\n",
            "         0.561667        305588\n",
            "         0.562500        172786\n",
            "         0.563333        124752\n",
            "         0.564167        399538\n",
            "         0.565000        122787\n",
            "         0.566667        104949\n",
            "         0.568333        112178\n",
            "         0.572500        132552\n",
            "         0.573333         68232\n",
            "         0.575000         99057\n",
            "         0.577500        326722\n",
            "         0.580000        109995\n",
            "         0.580833        137380\n",
            "         0.581667        187344\n",
            "         0.583333        142975\n",
            "         0.587500        146167\n",
            "         0.589167         69912\n",
            "         0.590833        102058\n",
            "         0.593333        155064\n",
            "         0.595000        199104\n",
            "         0.595652         63612\n",
            "         0.595833         89180\n",
            "         0.597500        118966\n",
            "         0.598333        104616\n",
            "         0.599167        368941\n",
            "         0.602500        223656\n",
            "         0.604167        201264\n",
            "         0.606667        184520\n",
            "         0.608333        133820\n",
            "         0.609167         57480\n",
            "         0.611667        112530\n",
            "         0.612500        240046\n",
            "         0.613333        120540\n",
            "         0.615000        266185\n",
            "         0.616667        199929\n",
            "         0.617500         97392\n",
            "         0.619167        155715\n",
            "         0.620000        216544\n",
            "         0.621667        120980\n",
            "         0.623333         77387\n",
            "         0.626667        113960\n",
            "         0.627500        132216\n",
            "         0.628333        195898\n",
            "         0.630833        133956\n",
            "         0.631667        203902\n",
            "         0.633333        160180\n",
            "         0.633913         42366\n",
            "         0.634167         80160\n",
            "         0.635000        518578\n",
            "         0.635833        241757\n",
            "         0.636667        361366\n",
            "         0.639167        252458\n",
            "         0.640833        117900\n",
            "         0.643333        113448\n",
            "         0.644348         98973\n",
            "         0.648333        233119\n",
            "         0.649167        502114\n",
            "         0.650000        225523\n",
            "         0.650833        109549\n",
            "         0.653333        284784\n",
            "         0.654167         94921\n",
            "         0.655000        259815\n",
            "         0.655833        202285\n",
            "         0.656667        253434\n",
            "         0.657500        297756\n",
            "         0.659167        113544\n",
            "         0.660000        198673\n",
            "         0.660833        114494\n",
            "         0.661667         96848\n",
            "         0.663333        127374\n",
            "         0.665833        227382\n",
            "         0.667500        140125\n",
            "         0.669167         76228\n",
            "         0.673333        223260\n",
            "         0.676667         61120\n",
            "         0.678333        100056\n",
            "         0.680000        382848\n",
            "         0.680833        228137\n",
            "         0.681667        112296\n",
            "         0.682500        103576\n",
            "         0.684167         85008\n",
            "         0.685000        237609\n",
            "         0.685833         78850\n",
            "         0.688333        143325\n",
            "         0.691667        104676\n",
            "         0.692500        185524\n",
            "         0.695000         83232\n",
            "         0.695833        147535\n",
            "         0.696667        332809\n",
            "         0.697500        229756\n",
            "         0.699167         80648\n",
            "         0.700000        111864\n",
            "         0.700833        202110\n",
            "         0.702500        159222\n",
            "         0.703333        302841\n",
            "         0.706667        293487\n",
            "         0.707059         39006\n",
            "         0.707500        115992\n",
            "         0.708333        229968\n",
            "         0.709167         96960\n",
            "         0.710000        109824\n",
            "         0.710833        339939\n",
            "         0.711667         91320\n",
            "         0.713333        144320\n",
            "         0.715000        104328\n",
            "         0.715833        411792\n",
            "         0.716667        222572\n",
            "         0.717500        266608\n",
            "         0.719167        226328\n",
            "         0.720000        106467\n",
            "         0.720833        403030\n",
            "         0.721667         92358\n",
            "         0.722500        237805\n",
            "         0.723333        236626\n",
            "         0.724167        283244\n",
            "         0.725000         89388\n",
            "         0.725833        137280\n",
            "         0.726667        228052\n",
            "         0.728333        375935\n",
            "         0.730833        142100\n",
            "         0.731667        224683\n",
            "         0.733333        188208\n",
            "         0.735833        145460\n",
            "         0.736667        142240\n",
            "         0.738333         71666\n",
            "         0.741667        146286\n",
            "         0.742500         71915\n",
            "         0.743333         92160\n",
            "         0.744167        106904\n",
            "         0.745833         96496\n",
            "         0.746667        323160\n",
            "         0.747500         78096\n",
            "         0.749167        144459\n",
            "         0.750000        260888\n",
            "         0.750833        151840\n",
            "         0.752500        285480\n",
            "         0.755000        110064\n",
            "         0.755833        239310\n",
            "         0.762500         98064\n",
            "         0.763333        129770\n",
            "         0.764167        249726\n",
            "         0.765000        217564\n",
            "         0.765833        150675\n",
            "         0.766667        109940\n",
            "         0.768333        103968\n",
            "         0.769167         92888\n",
            "         0.770000        138411\n",
            "         0.771667        212544\n",
            "         0.775000        317760\n",
            "         0.775833        105624\n",
            "         0.776667        232482\n",
            "         0.777500        116460\n",
            "         0.779167        105360\n",
            "         0.780833        133200\n",
            "         0.781667        269524\n",
            "         0.782500        130431\n",
            "         0.783333        116280\n",
            "         0.793333        125686\n",
            "         0.794167         97934\n",
            "         0.804167         98450\n",
            "         0.805833        214347\n",
            "         0.808333         93960\n",
            "         0.815000         90816\n",
            "         0.815833        127213\n",
            "         0.818333        135720\n",
            "         0.822500        102784\n",
            "         0.827500        118579\n",
            "         0.828333        142761\n",
            "         0.830000         86544\n",
            "         0.834167        125649\n",
            "         0.838333         92304\n",
            "         0.848333         81288\n",
            "         0.849167         78840\n",
            "         0.861667        101640\n"
          ]
        }
      ],
      "source": [
        "temperature_usage = merged_df.groupby(\"temp_hari\")[\"cnt_hari\"].sum().reset_index()\n",
        "temperature_usage.columns = [\"Suhu Normalisasi\", \"Total Rental\"]\n",
        "\n",
        "print(\"Total Penyewaan Berdasarkan Suhu:\")\n",
        "print(temperature_usage.to_string(index=False))\n"
      ]
    },
    {
      "cell_type": "markdown",
      "metadata": {},
      "source": [
        "**Insight:**\n",
        "- Jumlah pengguna rental cenderung lebih banyak ketika suhu sedang"
      ]
    },
    {
      "cell_type": "markdown",
      "metadata": {},
      "source": [
        "Melihat total rental berdasarkan kelembapan"
      ]
    },
    {
      "cell_type": "code",
      "execution_count": 25,
      "metadata": {},
      "outputs": [
        {
          "name": "stdout",
          "output_type": "stream",
          "text": [
            "Total Penyewaan Berdasarkan Kelembapan:\n",
            " Kelembapan Normalisasi  Total Rental\n",
            "               0.275833         82704\n",
            "               0.290000        102040\n",
            "               0.302174         46644\n",
            "               0.305000        104328\n",
            "               0.311250         77832\n",
            "               0.314167         58200\n",
            "               0.314348         36300\n",
            "               0.317500         83775\n",
            "               0.318333         38755\n",
            "               0.333478        106300\n",
            "               0.350417         86478\n",
            "               0.354167        127488\n",
            "               0.360000        146700\n",
            "               0.360417        126540\n",
            "               0.373333        133956\n",
            "               0.374167        129140\n",
            "               0.377083        116280\n",
            "               0.379167         52989\n",
            "               0.390417        133820\n",
            "               0.394167         57408\n",
            "               0.395833        100349\n",
            "               0.396250        128688\n",
            "               0.396667        121896\n",
            "               0.400000         22563\n",
            "               0.400833        192937\n",
            "               0.402917        111744\n",
            "               0.403333         65037\n",
            "               0.404583         47817\n",
            "               0.407083         87969\n",
            "               0.407826         36240\n",
            "               0.408333        121562\n",
            "               0.410000        162744\n",
            "               0.411250         82128\n",
            "               0.414583         56832\n",
            "               0.415000        117720\n",
            "               0.416667        103707\n",
            "               0.419167         55464\n",
            "               0.420833         51192\n",
            "               0.422500        144459\n",
            "               0.423043         44091\n",
            "               0.423478         48645\n",
            "               0.423750        115008\n",
            "               0.424167        109940\n",
            "               0.427917        123920\n",
            "               0.434167        144929\n",
            "               0.435000        118360\n",
            "               0.436522         22678\n",
            "               0.436957         36800\n",
            "               0.437273         29678\n",
            "               0.437391         35374\n",
            "               0.437826         34100\n",
            "               0.439167        122660\n",
            "               0.441250         40248\n",
            "               0.444167         97526\n",
            "               0.444583         71666\n",
            "               0.447083        124540\n",
            "               0.449583         42680\n",
            "               0.450000        239372\n",
            "               0.450833        142761\n",
            "               0.454167        118293\n",
            "               0.455417        117900\n",
            "               0.456250         80130\n",
            "               0.456667         94944\n",
            "               0.457083        142683\n",
            "               0.457391         36547\n",
            "               0.457500         59832\n",
            "               0.457917        118579\n",
            "               0.458333         85491\n",
            "               0.463333        151400\n",
            "               0.465000         82200\n",
            "               0.465833         98450\n",
            "               0.466250        113589\n",
            "               0.467917        139248\n",
            "               0.468333         58176\n",
            "               0.469565         97240\n",
            "               0.469583        135156\n",
            "               0.470000        104676\n",
            "               0.470417         33744\n",
            "               0.470833         64584\n",
            "               0.471667        113960\n",
            "               0.473750         51891\n",
            "               0.476250        116932\n",
            "               0.476957         78576\n",
            "               0.479583         63648\n",
            "               0.480000         51984\n",
            "               0.480833         90342\n",
            "               0.481250        119658\n",
            "               0.482917         31704\n",
            "               0.483333        199203\n",
            "               0.483750         28896\n",
            "               0.485000        114580\n",
            "               0.485833        264185\n",
            "               0.486667         80656\n",
            "               0.487083        118966\n",
            "               0.488750        125649\n",
            "               0.489167        221727\n",
            "               0.489583         84400\n",
            "               0.490000         65832\n",
            "               0.490833         90762\n",
            "               0.491250        229316\n",
            "               0.491739         32568\n",
            "               0.492083        234840\n",
            "               0.492917        295382\n",
            "               0.493913         38939\n",
            "               0.494167        110439\n",
            "               0.494583        219164\n",
            "               0.494783         36915\n",
            "               0.495000         53040\n",
            "               0.496250         96250\n",
            "               0.496957         47058\n",
            "               0.497500         79008\n",
            "               0.497917        120175\n",
            "               0.498696         34730\n",
            "               0.498750         29952\n",
            "               0.500000         78840\n",
            "               0.500417         85848\n",
            "               0.502083         76923\n",
            "               0.503333         79680\n",
            "               0.503750        142975\n",
            "               0.503913         50644\n",
            "               0.504167        135580\n",
            "               0.504348         89040\n",
            "               0.505000         59400\n",
            "               0.505833        135720\n",
            "               0.506250        183786\n",
            "               0.506364         38412\n",
            "               0.507083        249936\n",
            "               0.507500        131198\n",
            "               0.507917         96159\n",
            "               0.508750        199159\n",
            "               0.510000        109184\n",
            "               0.513333        182811\n",
            "               0.515417         42888\n",
            "               0.515833         64536\n",
            "               0.516667         64394\n",
            "               0.518261         36938\n",
            "               0.518750        127213\n",
            "               0.519167        226694\n",
            "               0.520000        302637\n",
            "               0.522083        122787\n",
            "               0.523333        145141\n",
            "               0.524167         78528\n",
            "               0.524583        214804\n",
            "               0.525217         74497\n",
            "               0.526667         99624\n",
            "               0.527391         48340\n",
            "               0.529583        148920\n",
            "               0.530417         98160\n",
            "               0.531250         95887\n",
            "               0.531667         90420\n",
            "               0.532917         91926\n",
            "               0.534583         77724\n",
            "               0.535000         44424\n",
            "               0.535417        106827\n",
            "               0.535833         21098\n",
            "               0.536667        144229\n",
            "               0.537826         32683\n",
            "               0.537917         74796\n",
            "               0.538333        250319\n",
            "               0.539167        145640\n",
            "               0.540000         91944\n",
            "               0.540417         78408\n",
            "               0.540833        241984\n",
            "               0.541250         80138\n",
            "               0.542083         98352\n",
            "               0.542500        197853\n",
            "               0.543333         84483\n",
            "               0.544167         33856\n",
            "               0.545417        244611\n",
            "               0.547500        110770\n",
            "               0.548333        114488\n",
            "               0.550833        188928\n",
            "               0.551304         39312\n",
            "               0.552083        393078\n",
            "               0.552917         77273\n",
            "               0.554583        217946\n",
            "               0.555652        106460\n",
            "               0.556667         76083\n",
            "               0.558333        150680\n",
            "               0.559167         97934\n",
            "               0.560833         65736\n",
            "               0.561765         39006\n",
            "               0.562083         91920\n",
            "               0.567083        267478\n",
            "               0.567917        233784\n",
            "               0.568333        281130\n",
            "               0.568750         62560\n",
            "               0.569167        100441\n",
            "               0.569583        154623\n",
            "               0.570000        377767\n",
            "               0.570417        110448\n",
            "               0.570833        128664\n",
            "               0.573333        119784\n",
            "               0.573750        219244\n",
            "               0.574167        161448\n",
            "               0.575417        107962\n",
            "               0.575833         73272\n",
            "               0.576250         91770\n",
            "               0.577083        275216\n",
            "               0.577500         65496\n",
            "               0.577778         26100\n",
            "               0.578333        182046\n",
            "               0.579583        235142\n",
            "               0.580000         79728\n",
            "               0.580417         81288\n",
            "               0.580833        120098\n",
            "               0.581667        125706\n",
            "               0.582083        126157\n",
            "               0.583333        215584\n",
            "               0.585217         39284\n",
            "               0.585833         89928\n",
            "               0.586250         58344\n",
            "               0.587083        195920\n",
            "               0.587500        154350\n",
            "               0.587917        133280\n",
            "               0.588750        100326\n",
            "               0.589583        137970\n",
            "               0.590000        269424\n",
            "               0.590417        372747\n",
            "               0.590435         35926\n",
            "               0.591250        127374\n",
            "               0.592083        234255\n",
            "               0.594348         86871\n",
            "               0.594583        194020\n",
            "               0.595417         90000\n",
            "               0.596667        239019\n",
            "               0.597917        232326\n",
            "               0.599545         23240\n",
            "               0.600000        100056\n",
            "               0.600417        138411\n",
            "               0.601250        113740\n",
            "               0.602917        141240\n",
            "               0.603750         36024\n",
            "               0.604167         74228\n",
            "               0.605000        228054\n",
            "               0.609167         80040\n",
            "               0.610417         46656\n",
            "               0.611250        141100\n",
            "               0.612500        131300\n",
            "               0.612917         86736\n",
            "               0.613333        320322\n",
            "               0.613750        118358\n",
            "               0.614167         94656\n",
            "               0.615000        159222\n",
            "               0.615417        109780\n",
            "               0.615833         52185\n",
            "               0.616957         45655\n",
            "               0.617500        122787\n",
            "               0.618333        146680\n",
            "               0.619583        146940\n",
            "               0.620000        140800\n",
            "               0.620417        260065\n",
            "               0.620833        109595\n",
            "               0.621250         85386\n",
            "               0.622083        105624\n",
            "               0.622174         87032\n",
            "               0.622500         93058\n",
            "               0.622917        107801\n",
            "               0.623333        115479\n",
            "               0.623750        172302\n",
            "               0.624583         64872\n",
            "               0.625417        110607\n",
            "               0.625833         94560\n",
            "               0.626667         81270\n",
            "               0.627500        138652\n",
            "               0.629167         77544\n",
            "               0.630833        409840\n",
            "               0.631667        182202\n",
            "               0.632917        100368\n",
            "               0.633333        145280\n",
            "               0.634167        192211\n",
            "               0.634583         95542\n",
            "               0.635833        245599\n",
            "               0.636250        146167\n",
            "               0.636667        167544\n",
            "               0.637083        148276\n",
            "               0.637500         81672\n",
            "               0.639167        117645\n",
            "               0.640417         99585\n",
            "               0.641667        149320\n",
            "               0.642500        150675\n",
            "               0.642917        123442\n",
            "               0.643750        155528\n",
            "               0.645000        129770\n",
            "               0.645417        111112\n",
            "               0.646522         82754\n",
            "               0.646667         36864\n",
            "               0.647500        124848\n",
            "               0.647917        106172\n",
            "               0.649167        142338\n",
            "               0.649565         45471\n",
            "               0.649583        124696\n",
            "               0.650417        230112\n",
            "               0.651250        217200\n",
            "               0.651739         25254\n",
            "               0.652500        171384\n",
            "               0.652917         42280\n",
            "               0.653750        166344\n",
            "               0.654167        140260\n",
            "               0.654583        180708\n",
            "               0.655000        151840\n",
            "               0.655652         47288\n",
            "               0.657083         73462\n",
            "               0.657500         82202\n",
            "               0.658333        103576\n",
            "               0.659583        265760\n",
            "               0.662917         85974\n",
            "               0.663750         89760\n",
            "               0.664167        131733\n",
            "               0.665833         76896\n",
            "               0.666250        111140\n",
            "               0.666667        197534\n",
            "               0.667500        132090\n",
            "               0.667917         94944\n",
            "               0.668750        313607\n",
            "               0.670000        137100\n",
            "               0.670417         81904\n",
            "               0.670833         79440\n",
            "               0.672500        160180\n",
            "               0.672917        229661\n",
            "               0.673750        140120\n",
            "               0.674167         83056\n",
            "               0.677083        235501\n",
            "               0.677500        263848\n",
            "               0.680000         55246\n",
            "               0.681304         17342\n",
            "               0.681667         58292\n",
            "               0.683333        137949\n",
            "               0.683750         97632\n",
            "               0.684167        119640\n",
            "               0.684583        193597\n",
            "               0.685000        118314\n",
            "               0.685833        120288\n",
            "               0.686250        104255\n",
            "               0.686364         27786\n",
            "               0.686667        135680\n",
            "               0.687500          3448\n",
            "               0.687917         70728\n",
            "               0.688333         90408\n",
            "               0.688750        100680\n",
            "               0.690000        407976\n",
            "               0.690833        140467\n",
            "               0.691250         90816\n",
            "               0.692174         98973\n",
            "               0.692500         52762\n",
            "               0.692917        264068\n",
            "               0.694167        146286\n",
            "               0.694583        131220\n",
            "               0.695000         76932\n",
            "               0.695833         86880\n",
            "               0.696087         18423\n",
            "               0.696250        114494\n",
            "               0.697083        198741\n",
            "               0.697391         41561\n",
            "               0.697917        155904\n",
            "               0.698333         73704\n",
            "               0.699167        106458\n",
            "               0.700833         97392\n",
            "               0.701250         81135\n",
            "               0.701667        159104\n",
            "               0.702083         95376\n",
            "               0.703333        203016\n",
            "               0.703750        145460\n",
            "               0.704167        144320\n",
            "               0.707083        103968\n",
            "               0.707500        231543\n",
            "               0.708333         84240\n",
            "               0.709167         84157\n",
            "               0.710000        102488\n",
            "               0.711667        104627\n",
            "               0.712083        104112\n",
            "               0.712174         26298\n",
            "               0.712500        109549\n",
            "               0.712917         96848\n",
            "               0.713750         85782\n",
            "               0.715833        127292\n",
            "               0.716087         58700\n",
            "               0.716250         87456\n",
            "               0.716667        218398\n",
            "               0.716956         63612\n",
            "               0.717917         96496\n",
            "               0.718333         76687\n",
            "               0.718750         96278\n",
            "               0.719583        118008\n",
            "               0.720417         93456\n",
            "               0.721667        100920\n",
            "               0.722174         25208\n",
            "               0.722917        312502\n",
            "               0.727083        113448\n",
            "               0.728333        157689\n",
            "               0.728750        129213\n",
            "               0.729167        105600\n",
            "               0.729583        195370\n",
            "               0.730000        105624\n",
            "               0.730417        145257\n",
            "               0.731250         41211\n",
            "               0.732917        100784\n",
            "               0.733750        138726\n",
            "               0.734167        137130\n",
            "               0.734583        221307\n",
            "               0.735417        132216\n",
            "               0.735833        116256\n",
            "               0.736250        157584\n",
            "               0.737083         60559\n",
            "               0.737391         47771\n",
            "               0.737500         73227\n",
            "               0.738333         41088\n",
            "               0.739167         44748\n",
            "               0.740000         95385\n",
            "               0.740833        107808\n",
            "               0.741250        282381\n",
            "               0.741739         37950\n",
            "               0.743043         88941\n",
            "               0.743333        106467\n",
            "               0.744167         99057\n",
            "               0.746250         96240\n",
            "               0.747083        134680\n",
            "               0.747500        111872\n",
            "               0.747917         84740\n",
            "               0.749583         83880\n",
            "               0.752917        173537\n",
            "               0.753750        149161\n",
            "               0.755000        214572\n",
            "               0.755417         94921\n",
            "               0.756667        110572\n",
            "               0.757083         92160\n",
            "               0.757500        183456\n",
            "               0.757917        153412\n",
            "               0.758333         98616\n",
            "               0.758750         96840\n",
            "               0.760833         85680\n",
            "               0.761250        111864\n",
            "               0.761667        134232\n",
            "               0.762083         77073\n",
            "               0.762500         27888\n",
            "               0.764167        115184\n",
            "               0.765833        127533\n",
            "               0.766667         77136\n",
            "               0.767500        130914\n",
            "               0.768333        134841\n",
            "               0.769583         93725\n",
            "               0.770000         85206\n",
            "               0.770417        111205\n",
            "               0.771667         85008\n",
            "               0.772083         96301\n",
            "               0.774583        120980\n",
            "               0.775417         75904\n",
            "               0.775833         83640\n",
            "               0.776522         50416\n",
            "               0.776667         97752\n",
            "               0.777917        112178\n",
            "               0.779583         67968\n",
            "               0.786667         91057\n",
            "               0.787917         94992\n",
            "               0.789167         49848\n",
            "               0.789583         68232\n",
            "               0.791304         21160\n",
            "               0.791667         70032\n",
            "               0.793043         26841\n",
            "               0.793750        143868\n",
            "               0.794583        112530\n",
            "               0.796250         47448\n",
            "               0.797083        129549\n",
            "               0.799167        113544\n",
            "               0.800417        154539\n",
            "               0.802917         98328\n",
            "               0.804783         42182\n",
            "               0.805833         68400\n",
            "               0.806667        114202\n",
            "               0.807083        141436\n",
            "               0.807917        134046\n",
            "               0.808750        104949\n",
            "               0.810000        180790\n",
            "               0.810417        124060\n",
            "               0.810833         67056\n",
            "               0.811250        104616\n",
            "               0.812917         55839\n",
            "               0.813333         70392\n",
            "               0.815000        124752\n",
            "               0.817500         61120\n",
            "               0.819167         51888\n",
            "               0.821250        130830\n",
            "               0.823333        117511\n",
            "               0.825455         12056\n",
            "               0.827083         91464\n",
            "               0.829565         31280\n",
            "               0.829583        109800\n",
            "               0.830833         69936\n",
            "               0.831250        160472\n",
            "               0.833333        104412\n",
            "               0.835417        111650\n",
            "               0.835833        104136\n",
            "               0.836250         35304\n",
            "               0.837917         94829\n",
            "               0.838750         90864\n",
            "               0.839565         46662\n",
            "               0.842083        100694\n",
            "               0.844167        123270\n",
            "               0.845000         80160\n",
            "               0.845833         94590\n",
            "               0.847500         52248\n",
            "               0.848333        106490\n",
            "               0.848750         89861\n",
            "               0.850000         14495\n",
            "               0.857500         57900\n",
            "               0.858333         63840\n",
            "               0.861667          8196\n",
            "               0.862500         94358\n",
            "               0.863333         98520\n",
            "               0.865417         89180\n",
            "               0.867083         77401\n",
            "               0.870000         92520\n",
            "               0.871667        102058\n",
            "               0.872500         77387\n",
            "               0.876364         27474\n",
            "               0.877500         56465\n",
            "               0.880000            22\n",
            "               0.880833         89928\n",
            "               0.881250         87384\n",
            "               0.882500         13794\n",
            "               0.885417        173064\n",
            "               0.886957         62330\n",
            "               0.887917         72648\n",
            "               0.888333         15105\n",
            "               0.895217         48480\n",
            "               0.896667         69912\n",
            "               0.897917         85056\n",
            "               0.900000        104448\n",
            "               0.902083        105490\n",
            "               0.905417         77472\n",
            "               0.906250         57984\n",
            "               0.907083        105455\n",
            "               0.910000         66360\n",
            "               0.911250        164426\n",
            "               0.917083         47904\n",
            "               0.918333         40440\n",
            "               0.922500         81816\n",
            "               0.925000        108570\n",
            "               0.929167         24120\n",
            "               0.930000         43608\n",
            "               0.939565         42366\n",
            "               0.948261         12705\n",
            "               0.949583         62256\n",
            "               0.962500         38568\n",
            "               0.970417         14805\n",
            "               0.972500         57480\n"
          ]
        }
      ],
      "source": [
        "humidity_usage = merged_df.groupby(\"hum_hari\")[\"cnt_hari\"].sum().reset_index()\n",
        "humidity_usage.columns = [\"Kelembapan Normalisasi\", \"Total Rental\"]\n",
        "\n",
        "print(\"Total Penyewaan Berdasarkan Kelembapan:\")\n",
        "print(humidity_usage.to_string(index=False))\n"
      ]
    },
    {
      "cell_type": "markdown",
      "metadata": {
        "id": "th_Lzl2Fkj9O"
      },
      "source": [
        "**Insight:**\n",
        "- Jumlah pengguna rental tidak terpengaruh oleh kelembapan udara\n"
      ]
    },
    {
      "cell_type": "markdown",
      "metadata": {},
      "source": [
        "Mengekstrak hasil data frame yang baru"
      ]
    },
    {
      "cell_type": "code",
      "execution_count": 27,
      "metadata": {},
      "outputs": [],
      "source": [
        "merged_df.to_csv(\"merged_data.csv\", index=False)"
      ]
    },
    {
      "cell_type": "markdown",
      "metadata": {
        "id": "zsyZjqak8DC2"
      },
      "source": [
        "## Visualization & Explanatory Analysis"
      ]
    },
    {
      "cell_type": "markdown",
      "metadata": {
        "id": "HZxOiQ6n8DC2"
      },
      "source": [
        "### Pertanyaan 1: Di musim apa rental sepeda paling tinggi dan paling rendah?"
      ]
    },
    {
      "cell_type": "code",
      "execution_count": 24,
      "metadata": {
        "id": "1swJUdAD8DC2"
      },
      "outputs": [
        {
          "name": "stderr",
          "output_type": "stream",
          "text": [
            "C:\\Users\\Cahya\\AppData\\Local\\Temp\\ipykernel_20440\\3028552061.py:4: FutureWarning: \n",
            "\n",
            "Passing `palette` without assigning `hue` is deprecated and will be removed in v0.14.0. Assign the `x` variable to `hue` and set `legend=False` for the same effect.\n",
            "\n",
            "  sns.barplot(x=season_usage[\"Musim (1=Spring, 2=Summer, 3=Fall, 4=Winter)\"],\n"
          ]
        },
        {
          "data": {
            "image/png": "[encoded data removed]",
            "text/plain": [
              "<Figure size 800x500 with 1 Axes>"
            ]
          },
          "metadata": {},
          "output_type": "display_data"
        }
      ],
      "source": [
        "sns.set_style(\"whitegrid\")\n",
        "\n",
        "plt.figure(figsize=(8,5))\n",
        "sns.barplot(x=season_usage[\"Musim (1=Spring, 2=Summer, 3=Fall, 4=Winter)\"], \n",
        "            y=season_usage[\"Total Rental\"], \n",
        "            palette=\"coolwarm\")\n",
        "\n",
        "plt.xlabel(\"Musim\", fontsize=12)\n",
        "plt.ylabel(\"Total Rental\", fontsize=12)\n",
        "plt.title(\"Total Penyewaan Sepeda Berdasarkan Musim\", fontsize=14)\n",
        "plt.xticks(ticks=[0,1,2,3], labels=[\"Spring\", \"Summer\", \"Fall\", \"Winter\"])\n",
        "plt.show()"
      ]
    },
    {
      "cell_type": "markdown",
      "metadata": {},
      "source": [
        "**Insight:**\n",
        "- Jumlah pengguna rental paling banyak pada musim gugur dengan musim semi sebagai jumlah pengguna rental paling sedikit"
      ]
    },
    {
      "cell_type": "markdown",
      "metadata": {
        "id": "DgHI7CiU8DC2"
      },
      "source": [
        "### Pertanyaan 2: Bagaimana pola rental sepeda berdasarkan jam dalam sehari?"
      ]
    },
    {
      "cell_type": "code",
      "execution_count": null,
      "metadata": {
        "id": "Go0lCsvO8DC2"
      },
      "outputs": [
        {
          "name": "stderr",
          "output_type": "stream",
          "text": [
            "C:\\Users\\Cahya\\AppData\\Local\\Temp\\ipykernel_20440\\3858315870.py:7: FutureWarning: \n",
            "\n",
            "Passing `palette` without assigning `hue` is deprecated and will be removed in v0.14.0. Assign the `x` variable to `hue` and set `legend=False` for the same effect.\n",
            "\n",
            "  sns.barplot(x=hourly_usage[\"Jam\"], y=hourly_usage[\"Total Rental\"], palette=\"viridis\")\n"
          ]
        },
        {
          "data": {
            "image/png": "[encoded data removed]",
            "text/plain": [
              "<Figure size 1000x500 with 1 Axes>"
            ]
          },
          "metadata": {},
          "output_type": "display_data"
        }
      ],
      "source": [
        "hourly_usage = merged_df.groupby(\"hr\")[\"cnt_jam\"].sum().reset_index()\n",
        "hourly_usage.columns = [\"Jam\", \"Total Rental\"]\n",
        "\n",
        "plt.figure(figsize=(10, 5))\n",
        "sns.barplot(x=hourly_usage[\"Jam\"], y=hourly_usage[\"Total Rental\"], palette=\"viridis\")\n",
        "\n",
        "plt.xlabel(\"Jam\", fontsize=12)\n",
        "plt.ylabel(\"Total Rental\", fontsize=12)\n",
        "plt.title(\"Total Penyewaan Sepeda Berdasarkan Jam\", fontsize=14)\n",
        "\n",
        "plt.show()"
      ]
    },
    {
      "cell_type": "markdown",
      "metadata": {
        "id": "_0-36BDLklRg"
      },
      "source": [
        "**Insight:**\n",
        "- Jumlah rental terbanyak terdapat pada jam kerja adalah jam 10 pagi\n",
        "- Jumlah rental terbanyak terdapat pada jam pulang kerja adalah jam 8 malam"
      ]
    },
    {
      "cell_type": "markdown",
      "metadata": {
        "id": "_WeHlCeX8DC2"
      },
      "source": [
        "## Conclusion"
      ]
    },
    {
      "cell_type": "markdown",
      "metadata": {
        "id": "ZTcyR48Y8DC2"
      },
      "source": [
        "- Conclusion pertanyaan 1 : Berdasarkan analisis data yang telah dilakukan pada jumlah rental berdasarkan musim, dapat dilihat bahwa jumlah rental terbanyak terdapat pada musim gugur, lalu musim dingin, musim panas, dan yang terakhir yaitu musim semi\n",
        "- Conclution pertanyaan 2 : Berdasarkan analisis data yang telah dilakukan pada jumlah rental berdasarkan jam, dapat dilihat bahwa jam berangkat kerja (jam 8-10 pagi) jumlah rental meningkat drastis dibandingkan dengan jam-jam sebelumnya. Hal yang sama pun juga terjadi pada jam pulang kerja (jam 7-9 malam)."
      ]
    }
  ],
  "metadata": {
    "colab": {
      "provenance": []
    },
    "kernelspec": {
      "display_name": "venv",
      "language": "python",
      "name": "python3"
    },
    "language_info": {
      "codemirror_mode": {
        "name": "ipython",
        "version": 3
      },
      "file_extension": ".py",
      "mimetype": "text/x-python",
      "name": "python",
      "nbconvert_exporter": "python",
      "pygments_lexer": "ipython3",
      "version": "3.12.3"
    },
    "orig_nbformat": 4
  },
  "nbformat": 4,
  "nbformat_minor": 0
}
